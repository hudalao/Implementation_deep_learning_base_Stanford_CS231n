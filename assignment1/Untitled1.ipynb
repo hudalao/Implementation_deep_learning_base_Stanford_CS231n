{
 "cells": [
  {
   "cell_type": "code",
   "execution_count": 19,
   "metadata": {},
   "outputs": [
    {
     "name": "stdout",
     "output_type": "stream",
     "text": [
      "[[-1  2 -2]\n",
      " [ 0  4  0]\n",
      " [ 1 -2 -2]\n",
      " [ 1  0  6]]\n",
      "[[0 2 0]\n",
      " [0 4 0]\n",
      " [0 0 0]\n",
      " [0 0 6]]\n"
     ]
    },
    {
     "data": {
      "text/plain": [
       "array([2, 4, 6])"
      ]
     },
     "execution_count": 19,
     "metadata": {},
     "output_type": "execute_result"
    }
   ],
   "source": [
    "import numpy as np\n",
    "\n",
    "x = np.array([[1,0,-2], [0,2,0], [1,-1,0], [-3, 2, 4]])\n",
    "w = np.array([[1,0,-2], [0,2,0], [1,-1,0]])\n",
    "margin = x.dot(w)\n",
    "print(margin)\n",
    "margin[margin==1] = 0\n",
    "margin[margin<0] = 0\n",
    "print(margin)\n",
    "margin[np.nonzero(margin)]"
   ]
  },
  {
   "cell_type": "code",
   "execution_count": 18,
   "metadata": {},
   "outputs": [
    {
     "ename": "SyntaxError",
     "evalue": "invalid syntax (<ipython-input-18-e74dc1d9541b>, line 2)",
     "output_type": "error",
     "traceback": [
      "\u001b[0;36m  File \u001b[0;32m\"<ipython-input-18-e74dc1d9541b>\"\u001b[0;36m, line \u001b[0;32m2\u001b[0m\n\u001b[0;31m    dW[np.nonzero(margin), :] = X[np.nonzero(margin)[1]]\u001b[0m\n\u001b[0m     ^\u001b[0m\n\u001b[0;31mSyntaxError\u001b[0m\u001b[0;31m:\u001b[0m invalid syntax\n"
     ]
    }
   ],
   "source": [
    "dW = np.zeros((np.shape(x)[0], np.shape(x)[1], np.shape(w)[0])\n",
    "dW[np.nonzero(margin), :] = X[np.nonzero(margin)[1]]"
   ]
  },
  {
   "cell_type": "code",
   "execution_count": null,
   "metadata": {},
   "outputs": [],
   "source": []
  }
 ],
 "metadata": {
  "kernelspec": {
   "display_name": "Python 3",
   "language": "python",
   "name": "python3"
  },
  "language_info": {
   "codemirror_mode": {
    "name": "ipython",
    "version": 3
   },
   "file_extension": ".py",
   "mimetype": "text/x-python",
   "name": "python",
   "nbconvert_exporter": "python",
   "pygments_lexer": "ipython3",
   "version": "3.6.4"
  }
 },
 "nbformat": 4,
 "nbformat_minor": 2
}
